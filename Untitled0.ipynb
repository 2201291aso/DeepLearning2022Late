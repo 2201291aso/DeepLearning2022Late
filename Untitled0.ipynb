{
  "nbformat": 4,
  "nbformat_minor": 0,
  "metadata": {
    "colab": {
      "provenance": [],
      "toc_visible": true,
      "authorship_tag": "ABX9TyO8djtQLbju57ayvpKykXp5",
      "include_colab_link": true
    },
    "kernelspec": {
      "name": "python3",
      "display_name": "Python 3"
    },
    "language_info": {
      "name": "python"
    }
  },
  "cells": [
    {
      "cell_type": "markdown",
      "metadata": {
        "id": "view-in-github",
        "colab_type": "text"
      },
      "source": [
        "<a href=\"https://colab.research.google.com/github/2201291aso/DeepLearning2022Late/blob/main/Untitled0.ipynb\" target=\"_parent\"><img src=\"https://colab.research.google.com/assets/colab-badge.svg\" alt=\"Open In Colab\"/></a>"
      ]
    },
    {
      "cell_type": "markdown",
      "source": [
        "# pyhton3で関数を定義する\n",
        "## 関数定義"
      ],
      "metadata": {
        "id": "QxFr_-8ebT8t"
      }
    },
    {
      "cell_type": "code",
      "source": [
        "def hello():\n",
        "  print('hello,kansuu!')\n",
        "print('test message!')"
      ],
      "metadata": {
        "colab": {
          "base_uri": "https://localhost:8080/"
        },
        "id": "hFE998GUbfio",
        "outputId": "772d1079-6b74-4db9-c142-b21576212b60"
      },
      "execution_count": 1,
      "outputs": [
        {
          "output_type": "stream",
          "name": "stdout",
          "text": [
            "test message!\n"
          ]
        }
      ]
    },
    {
      "cell_type": "markdown",
      "source": [
        "## 関数を実行する"
      ],
      "metadata": {
        "id": "bA35P3lQeA-z"
      }
    },
    {
      "cell_type": "code",
      "source": [
        "hello()\n",
        "hello()"
      ],
      "metadata": {
        "colab": {
          "base_uri": "https://localhost:8080/"
        },
        "id": "izIU7_AldTu8",
        "outputId": "3b446900-8923-4adb-d9cb-c7a2476f5fd9"
      },
      "execution_count": 2,
      "outputs": [
        {
          "output_type": "stream",
          "name": "stdout",
          "text": [
            "hello,kansuu!\n",
            "hello,kansuu!\n"
          ]
        }
      ]
    },
    {
      "cell_type": "markdown",
      "source": [
        "## 引数つきの関数を定義する\n"
      ],
      "metadata": {
        "id": "Y_RjML10eutc"
      }
    },
    {
      "cell_type": "code",
      "source": [
        "def hello(who):\n",
        "  print('hello,' + who + '!')\n",
        "\n",
        "hello('python') "
      ],
      "metadata": {
        "colab": {
          "base_uri": "https://localhost:8080/"
        },
        "id": "Q0U-gaZMeRFQ",
        "outputId": "d28a273d-bbbc-461d-a087-4e26858703bf"
      },
      "execution_count": 4,
      "outputs": [
        {
          "output_type": "stream",
          "name": "stdout",
          "text": [
            "hello,python!\n"
          ]
        }
      ]
    },
    {
      "cell_type": "markdown",
      "source": [
        "##複数の引数付きの関数を定義する"
      ],
      "metadata": {
        "id": "RYzrwJ_wg9kF"
      }
    },
    {
      "cell_type": "code",
      "source": [
        "def hello(who,aisatsu):\n",
        "  print('hello,' + who +'さん' + aisatsu)\n",
        "\n",
        "hello('田中','おはよう')\n",
        "hello('鈴木','こんにちは')"
      ],
      "metadata": {
        "colab": {
          "base_uri": "https://localhost:8080/"
        },
        "id": "AGa_kiomf38c",
        "outputId": "0295bfb1-b145-482a-d5b4-0a71ee0024ec"
      },
      "execution_count": 7,
      "outputs": [
        {
          "output_type": "stream",
          "name": "stdout",
          "text": [
            "hello,田中さんおはよう\n",
            "hello,鈴木さんこんにちは\n"
          ]
        }
      ]
    },
    {
      "cell_type": "markdown",
      "source": [
        "# 関数の戻り値を定義する\n",
        "## 戻り値の１つの関数を定義"
      ],
      "metadata": {
        "id": "zIpoV8-eh5lx"
      }
    },
    {
      "cell_type": "code",
      "source": [
        "def helloBack(who,aisatsu):\n",
        "  return who + 'さん、' + aisatsu\n",
        "\n",
        "x = helloBack('佐藤','こんばんは')\n",
        "print(x)"
      ],
      "metadata": {
        "colab": {
          "base_uri": "https://localhost:8080/"
        },
        "id": "7zBSrwGzhSja",
        "outputId": "dbc58e0e-0691-48c5-fea1-c398821166c8"
      },
      "execution_count": 9,
      "outputs": [
        {
          "output_type": "stream",
          "name": "stdout",
          "text": [
            "佐藤さん、こんばんは\n"
          ]
        }
      ]
    },
    {
      "cell_type": "code",
      "source": [
        "def keisan(x,y):\n",
        "  return x, y, x+y\n",
        "\n",
        "e,f,g = keisan(3,6)\n",
        "print(e,f,g)"
      ],
      "metadata": {
        "colab": {
          "base_uri": "https://localhost:8080/"
        },
        "id": "k5hdkykSihXC",
        "outputId": "93c31618-d4a9-4fcd-cf15-69bde58176f3"
      },
      "execution_count": 10,
      "outputs": [
        {
          "output_type": "stream",
          "name": "stdout",
          "text": [
            "3 6 9\n"
          ]
        }
      ]
    },
    {
      "cell_type": "markdown",
      "source": [
        "# その他の文法\n",
        "\n"
      ],
      "metadata": {
        "id": "eSkdBRgdlrKz"
      }
    },
    {
      "cell_type": "markdown",
      "source": [
        "##分岐（if文"
      ],
      "metadata": {
        "id": "O9YPpWLkzMnl"
      }
    },
    {
      "cell_type": "code",
      "source": [
        "def over(num,thres):\n",
        "  if num > thres:\n",
        "    print(str(num) + 'は' + str(thres) + 'より大きい')\n",
        "  else:\n",
        "    print(str(num) + 'は' + str(thres) + '以下です')\n",
        "\n",
        "over(333,100)\n",
        "over(-1,10)"
      ],
      "metadata": {
        "colab": {
          "base_uri": "https://localhost:8080/"
        },
        "id": "2fqLAaq7koV-",
        "outputId": "94f68209-765c-44a8-d093-f5c66905eb07"
      },
      "execution_count": 1,
      "outputs": [
        {
          "output_type": "stream",
          "name": "stdout",
          "text": [
            "333は100より大きい\n",
            "-1は10以下です\n"
          ]
        }
      ]
    },
    {
      "cell_type": "code",
      "source": [
        "def include(list,keyword):\n",
        "  uniq = set(list)\n",
        "  if keyword in uniq:\n",
        "    print(keyword + '含まれる')\n",
        "  else:\n",
        "    print(keyword + '含まれない')\n",
        "\n",
        "list1 = ['アップル','ペン','ペン','パイナップル']\n",
        "include(list1,'パイナップル')\n",
        "include(list1,'バナナ')"
      ],
      "metadata": {
        "colab": {
          "base_uri": "https://localhost:8080/"
        },
        "id": "F4Bki5usoBy1",
        "outputId": "60aa9b91-81f1-4d8e-a1bd-ac71bc9ca056"
      },
      "execution_count": 3,
      "outputs": [
        {
          "output_type": "stream",
          "name": "stdout",
          "text": [
            "パイナップル含まれる\n",
            "バナナ含まれない\n"
          ]
        }
      ]
    },
    {
      "cell_type": "markdown",
      "source": [
        "##繰り返し文（while文）"
      ],
      "metadata": {
        "id": "yg6T-2MQwycH"
      }
    },
    {
      "cell_type": "code",
      "source": [
        "def count(max):\n",
        "  num = 0\n",
        "  while num < max:\n",
        "    print(num)\n",
        "    num += 1\n",
        "\n",
        "count(5)"
      ],
      "metadata": {
        "colab": {
          "base_uri": "https://localhost:8080/"
        },
        "id": "MIf7VsbUvjiU",
        "outputId": "ccddec22-b51b-4b29-b9eb-36362388eb5e"
      },
      "execution_count": 1,
      "outputs": [
        {
          "output_type": "stream",
          "name": "stdout",
          "text": [
            "0\n",
            "1\n",
            "2\n",
            "3\n",
            "4\n"
          ]
        }
      ]
    },
    {
      "cell_type": "markdown",
      "source": [
        "## 繰り返し文（for文)\n",
        "変数βの集合から１つずつ取り出して変数αとして使う\n",
        "for 変数α in range(変数β):"
      ],
      "metadata": {
        "id": "8TdRHSHVy_U4"
      }
    },
    {
      "cell_type": "code",
      "source": [
        "def every(array):\n",
        "  for x in array:\n",
        "    print(x)\n",
        "\n",
        "list = [1,2,3]\n",
        "every(list)\n",
        "tuple = (4,5,6)\n",
        "every(tuple)\n",
        "dict = {'a':7,'b':8,'c':9}\n",
        "every(dict)\n",
        "values = dict.values()\n",
        "every(values)\n",
        "every('dog')"
      ],
      "metadata": {
        "colab": {
          "base_uri": "https://localhost:8080/"
        },
        "id": "eJYzhuJSx4qN",
        "outputId": "e97b2678-0210-4054-baf2-b0fb1890c653"
      },
      "execution_count": 4,
      "outputs": [
        {
          "output_type": "stream",
          "name": "stdout",
          "text": [
            "1\n",
            "2\n",
            "3\n",
            "4\n",
            "5\n",
            "6\n",
            "a\n",
            "b\n",
            "c\n",
            "7\n",
            "8\n",
            "9\n",
            "d\n",
            "o\n",
            "g\n"
          ]
        }
      ]
    },
    {
      "cell_type": "code",
      "source": [
        "def count(num):\n",
        "  for i in range(num):\n",
        "    print(i)\n",
        "\n",
        "count(3)\n"
      ],
      "metadata": {
        "colab": {
          "base_uri": "https://localhost:8080/"
        },
        "id": "04fcyKIQ0oRD",
        "outputId": "af3ccbd3-41e5-42e2-f9bd-11e59435a92c"
      },
      "execution_count": 5,
      "outputs": [
        {
          "output_type": "stream",
          "name": "stdout",
          "text": [
            "0\n",
            "1\n",
            "2\n"
          ]
        }
      ]
    },
    {
      "cell_type": "markdown",
      "source": [
        "## 繰り返しを中止したいときは、break命令"
      ],
      "metadata": {
        "id": "q3oThgon4xve"
      }
    },
    {
      "cell_type": "code",
      "source": [
        "def stop(array):\n",
        "  for i in array:\n",
        "    if i >= 4:\n",
        "      break\n",
        "    print(i)\n",
        "\n",
        "list = [1,2,3,4,5,1,2,3,4,5]\n",
        "stop(list)"
      ],
      "metadata": {
        "colab": {
          "base_uri": "https://localhost:8080/"
        },
        "id": "d4uAoByK335c",
        "outputId": "f2c91bfa-7ec1-41d4-ed41-0437667686c5"
      },
      "execution_count": 2,
      "outputs": [
        {
          "output_type": "stream",
          "name": "stdout",
          "text": [
            "1\n",
            "2\n",
            "3\n"
          ]
        }
      ]
    },
    {
      "cell_type": "markdown",
      "source": [
        "## 繰り返しをスキップしたいときは、continue命令"
      ],
      "metadata": {
        "id": "5IZlFxDv6X-z"
      }
    },
    {
      "cell_type": "code",
      "source": [
        "def skip(array):\n",
        "  for i in array:\n",
        "    if i >= 4:\n",
        "      continue\n",
        "    print(i)\n",
        "\n",
        "list = [1,2,3,4,5,1,2,3,4,5]\n",
        "skip(list)"
      ],
      "metadata": {
        "colab": {
          "base_uri": "https://localhost:8080/"
        },
        "id": "sIlCqpKm4_T0",
        "outputId": "80db6bca-e597-4b80-9be5-b5772f44062d"
      },
      "execution_count": 3,
      "outputs": [
        {
          "output_type": "stream",
          "name": "stdout",
          "text": [
            "1\n",
            "2\n",
            "3\n",
            "1\n",
            "2\n",
            "3\n"
          ]
        }
      ]
    },
    {
      "cell_type": "code",
      "source": [],
      "metadata": {
        "id": "60jONr5V7DLs"
      },
      "execution_count": null,
      "outputs": []
    }
  ]
}