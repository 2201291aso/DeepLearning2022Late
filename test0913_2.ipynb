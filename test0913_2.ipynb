{
  "nbformat": 4,
  "nbformat_minor": 0,
  "metadata": {
    "colab": {
      "provenance": [],
      "authorship_tag": "ABX9TyMngxNgskrTamTG+6aS24R9",
      "include_colab_link": true
    },
    "kernelspec": {
      "name": "python3",
      "display_name": "Python 3"
    },
    "language_info": {
      "name": "python"
    }
  },
  "cells": [
    {
      "cell_type": "markdown",
      "metadata": {
        "id": "view-in-github",
        "colab_type": "text"
      },
      "source": [
        "<a href=\"https://colab.research.google.com/github/2201291aso/DeepLearning2022Late/blob/main/test0913_2.ipynb\" target=\"_parent\"><img src=\"https://colab.research.google.com/assets/colab-badge.svg\" alt=\"Open In Colab\"/></a>"
      ]
    },
    {
      "cell_type": "markdown",
      "source": [
        "#辞書型(dictionary)\n",
        "キーと値のペアで管理する\n",
        "##辞書型の定義文\n"
      ],
      "metadata": {
        "id": "h3QqtE7jzTpe"
      }
    },
    {
      "cell_type": "code",
      "source": [
        "#辞書型のデータを作って変数dictに代入\n",
        "dict = {'アップル':1,'ペン':2,'パイナップル':3}\n",
        "print(dict)\n",
        "print(dict['ペン'])"
      ],
      "metadata": {
        "colab": {
          "base_uri": "https://localhost:8080/"
        },
        "id": "uRSQQYZLzmzn",
        "outputId": "8e86e81f-4654-4578-c813-6e512deb834b"
      },
      "execution_count": 1,
      "outputs": [
        {
          "output_type": "stream",
          "name": "stdout",
          "text": [
            "{'アップル': 1, 'ペン': 2, 'パイナップル': 3}\n",
            "2\n"
          ]
        }
      ]
    },
    {
      "cell_type": "markdown",
      "source": [
        "##辞書型のキーワード一覧、値の一覧を取得する"
      ],
      "metadata": {
        "id": "xJyNoyEZ1qfU"
      }
    },
    {
      "cell_type": "code",
      "source": [
        "print(dict.keys())\n",
        "dict.values()"
      ],
      "metadata": {
        "colab": {
          "base_uri": "https://localhost:8080/"
        },
        "id": "3sbv7q0B1zzi",
        "outputId": "e1a37556-6281-45eb-db55-d177c31ec6ce"
      },
      "execution_count": 2,
      "outputs": [
        {
          "output_type": "stream",
          "name": "stdout",
          "text": [
            "dict_keys(['アップル', 'ペン', 'パイナップル'])\n"
          ]
        },
        {
          "output_type": "execute_result",
          "data": {
            "text/plain": [
              "dict_values([1, 2, 3])"
            ]
          },
          "metadata": {},
          "execution_count": 2
        }
      ]
    },
    {
      "cell_type": "markdown",
      "source": [
        "##辞書型の追加削除更新"
      ],
      "metadata": {
        "id": "krnSz8gE0-GL"
      }
    },
    {
      "cell_type": "code",
      "source": [
        "dict['バナナ'] = 5\n",
        "print(dict)\n",
        "dict['バナナ'] = 100\n",
        "print(dict)\n",
        "dict.pop('バナナ')\n",
        "print(dict)"
      ],
      "metadata": {
        "colab": {
          "base_uri": "https://localhost:8080/"
        },
        "id": "A2EWh_vp1G0y",
        "outputId": "25f07125-f98a-490f-ebc7-8eba485994d8"
      },
      "execution_count": 3,
      "outputs": [
        {
          "output_type": "stream",
          "name": "stdout",
          "text": [
            "{'アップル': 1, 'ペン': 2, 'パイナップル': 3, 'バナナ': 5}\n",
            "{'アップル': 1, 'ペン': 2, 'パイナップル': 3, 'バナナ': 100}\n",
            "{'アップル': 1, 'ペン': 2, 'パイナップル': 3}\n"
          ]
        }
      ]
    },
    {
      "cell_type": "markdown",
      "source": [
        "#文字列の整形\n",
        "## 文字列の連結と繰り返し"
      ],
      "metadata": {
        "id": "ZnNAexUd4rRZ"
      }
    },
    {
      "cell_type": "code",
      "source": [
        "apple = 'アップル'\n",
        "pen = 'ペン'\n",
        "print(apple + pen)\n",
        "piko = {'ペン','パイナップル','アップル','ペン'}\n",
        "print(','.join(piko))\n",
        "pon = 'ポン'\n",
        "print(pon*3)"
      ],
      "metadata": {
        "colab": {
          "base_uri": "https://localhost:8080/"
        },
        "id": "6a4fivS321eb",
        "outputId": "7874b8fa-1be1-4273-8421-330657e97e63"
      },
      "execution_count": 4,
      "outputs": [
        {
          "output_type": "stream",
          "name": "stdout",
          "text": [
            "アップルペン\n",
            "ペン,アップル,パイナップル\n",
            "ポンポンポン\n"
          ]
        }
      ]
    },
    {
      "cell_type": "markdown",
      "source": [
        "##【重要】文字列の整形（フォーマット）"
      ],
      "metadata": {
        "id": "XABS9Ca162t-"
      }
    },
    {
      "cell_type": "code",
      "source": [
        "print('{}{}:{}円'.format('アップル','ペン',100))\n",
        "print('{1}{2}:{0}円'.format(100,'アップル','ペン'))"
      ],
      "metadata": {
        "id": "nVdKIVnO6JPM",
        "colab": {
          "base_uri": "https://localhost:8080/"
        },
        "outputId": "40bb50ac-a75a-4f4c-e0d1-1e0bc5b4ac61"
      },
      "execution_count": 5,
      "outputs": [
        {
          "output_type": "stream",
          "name": "stdout",
          "text": [
            "アップルペン:100円\n",
            "アップルペン:100円\n"
          ]
        }
      ]
    },
    {
      "cell_type": "markdown",
      "source": [
        "# コレクション演習\n",
        "リスト、タプル、つまり順番がある集合のことをシーケンスという。\n",
        "順番がない集合のことを集合型（セット）という\n",
        "上記の２種類をまとめてコレクションという。\n",
        "コレクションは共通の演算が使える\n",
        "len（長さ、量を取得）、max(最大値を取得）、min(最小値を取得）など"
      ],
      "metadata": {
        "id": "EAF9Byp2XDYV"
      }
    },
    {
      "cell_type": "code",
      "source": [
        "a = [1,1,2,3,4,5]\n",
        "tuple = (10,9,7,7,8,8,9)\n",
        "set = {1,-2,3,-4,5,-6,7,-8}\n",
        "print(len(a),max(a),min(a))\n",
        "print(len(tuple),max(tuple),min(tuple))\n",
        "print(len(set),max(set),min(set))"
      ],
      "metadata": {
        "id": "n0AjnnY-76fh",
        "colab": {
          "base_uri": "https://localhost:8080/"
        },
        "outputId": "37c2e0c8-991d-4bb8-b223-ab9f98409d2c"
      },
      "execution_count": 6,
      "outputs": [
        {
          "output_type": "stream",
          "name": "stdout",
          "text": [
            "6 5 1\n",
            "7 10 7\n",
            "8 7 -8\n"
          ]
        }
      ]
    },
    {
      "cell_type": "code",
      "source": [],
      "metadata": {
        "id": "1eogPhm7Y07x"
      },
      "execution_count": 6,
      "outputs": []
    }
  ]
}