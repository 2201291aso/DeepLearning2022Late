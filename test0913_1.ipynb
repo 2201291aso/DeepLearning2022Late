{
  "nbformat": 4,
  "nbformat_minor": 0,
  "metadata": {
    "colab": {
      "provenance": [],
      "authorship_tag": "ABX9TyObW3k6/tHW9h8wDCnMj42j",
      "include_colab_link": true
    },
    "kernelspec": {
      "name": "python3",
      "display_name": "Python 3"
    },
    "language_info": {
      "name": "python"
    }
  },
  "cells": [
    {
      "cell_type": "markdown",
      "metadata": {
        "id": "view-in-github",
        "colab_type": "text"
      },
      "source": [
        "<a href=\"https://colab.research.google.com/github/2201291aso/DeepLearning2022Late/blob/main/test0913_1.ipynb\" target=\"_parent\"><img src=\"https://colab.research.google.com/assets/colab-badge.svg\" alt=\"Open In Colab\"/></a>"
      ]
    },
    {
      "cell_type": "code",
      "execution_count": 1,
      "metadata": {
        "id": "KIMV1FyWUKPK"
      },
      "outputs": [],
      "source": []
    },
    {
      "cell_type": "markdown",
      "source": [
        "# リスト型とタプル型\n",
        "##リストとタプル\n"
      ],
      "metadata": {
        "id": "PwVqcmhqUu1O"
      }
    },
    {
      "cell_type": "code",
      "source": [
        "# リスト\n",
        "list = ['アップル','ペン','ペン','パイナップル']\n",
        "print(list)\n",
        "print(list[1] + list[2])"
      ],
      "metadata": {
        "colab": {
          "base_uri": "https://localhost:8080/"
        },
        "id": "fn67do_yU19I",
        "outputId": "bb18e3fb-8e6f-4f3e-b043-d50fc483cb20"
      },
      "execution_count": 2,
      "outputs": [
        {
          "output_type": "stream",
          "name": "stdout",
          "text": [
            "['アップル', 'ペン', 'ペン', 'パイナップル']\n",
            "ペンペン\n"
          ]
        }
      ]
    },
    {
      "cell_type": "code",
      "source": [
        "# タプル\n",
        "tuple = ('アップル','ペン','ペン','パイナップル')\n",
        "print(tuple)\n",
        "print(tuple[1] + tuple[2])"
      ],
      "metadata": {
        "colab": {
          "base_uri": "https://localhost:8080/"
        },
        "id": "y8tY4cSmV0iK",
        "outputId": "71bdc160-93d4-40d3-e4b6-8f77ee9d43f9"
      },
      "execution_count": 3,
      "outputs": [
        {
          "output_type": "stream",
          "name": "stdout",
          "text": [
            "('アップル', 'ペン', 'ペン', 'パイナップル')\n",
            "ペンペン\n"
          ]
        }
      ]
    },
    {
      "cell_type": "code",
      "source": [],
      "metadata": {
        "id": "uydQ-CpqXLVc"
      },
      "execution_count": 3,
      "outputs": []
    },
    {
      "cell_type": "markdown",
      "source": [
        "###構成を変更できるのはリスト\n",
        "### *構成を変更できないのはタプル*"
      ],
      "metadata": {
        "id": "6qVngzgdXPV0"
      }
    },
    {
      "cell_type": "code",
      "source": [
        "print(list)\n",
        "list.append(100)\n",
        "print(list)\n",
        "del list[2]\n",
        "print(list)\n",
        "list[3] = 'ペン'\n",
        "print(list)\n",
        "list.insert(2,'ペン')\n",
        "print(list)"
      ],
      "metadata": {
        "colab": {
          "base_uri": "https://localhost:8080/"
        },
        "id": "4odqV0SkXbqu",
        "outputId": "87c91bf3-71a1-4517-cf35-52e2cdc2c338"
      },
      "execution_count": 4,
      "outputs": [
        {
          "output_type": "stream",
          "name": "stdout",
          "text": [
            "['アップル', 'ペン', 'ペン', 'パイナップル']\n",
            "['アップル', 'ペン', 'ペン', 'パイナップル', 100]\n",
            "['アップル', 'ペン', 'パイナップル', 100]\n",
            "['アップル', 'ペン', 'パイナップル', 'ペン']\n",
            "['アップル', 'ペン', 'ペン', 'パイナップル', 'ペン']\n"
          ]
        }
      ]
    },
    {
      "cell_type": "code",
      "source": [
        "print(list)\n",
        "print(len(list))\n"
      ],
      "metadata": {
        "colab": {
          "base_uri": "https://localhost:8080/"
        },
        "id": "CCAZCPI1Xn1M",
        "outputId": "26fd67f6-0db5-4e8f-e443-eef90bbbddc1"
      },
      "execution_count": 5,
      "outputs": [
        {
          "output_type": "stream",
          "name": "stdout",
          "text": [
            "['アップル', 'ペン', 'ペン', 'パイナップル', 'ペン']\n",
            "5\n"
          ]
        }
      ]
    },
    {
      "cell_type": "code",
      "source": [],
      "metadata": {
        "id": "VElvxNvscJ1h"
      },
      "execution_count": 5,
      "outputs": []
    },
    {
      "cell_type": "markdown",
      "source": [
        "# スライス\n",
        "## データを抽出する（データの一部を取り出す)"
      ],
      "metadata": {
        "id": "9JvZ6VX0cL7c"
      }
    },
    {
      "cell_type": "code",
      "source": [
        "print(list)\n",
        "print(list[1])\n",
        "print(list[1:3])\n",
        "print(list[1:])"
      ],
      "metadata": {
        "colab": {
          "base_uri": "https://localhost:8080/"
        },
        "id": "qm_nj32TcdJV",
        "outputId": "5bc1ab56-2b50-4533-945a-f7e998d468f2"
      },
      "execution_count": 6,
      "outputs": [
        {
          "output_type": "stream",
          "name": "stdout",
          "text": [
            "['アップル', 'ペン', 'ペン', 'パイナップル', 'ペン']\n",
            "ペン\n",
            "['ペン', 'ペン']\n",
            "['ペン', 'ペン', 'パイナップル', 'ペン']\n"
          ]
        }
      ]
    },
    {
      "cell_type": "code",
      "source": [],
      "metadata": {
        "id": "plqb4Gwxchuc"
      },
      "execution_count": 6,
      "outputs": []
    },
    {
      "cell_type": "markdown",
      "source": [
        "# SET型(集合型)\n",
        "集合型は、順番を持たない。重複したデータも持たない"
      ],
      "metadata": {
        "id": "ifxwmJIyfV6c"
      }
    },
    {
      "cell_type": "code",
      "source": [
        "uniq = set(['アップル','ペン','ペン','パイナップル'])\n",
        "print(uniq)"
      ],
      "metadata": {
        "colab": {
          "base_uri": "https://localhost:8080/"
        },
        "id": "DNqViHI-frf3",
        "outputId": "fde571c5-75da-4cb4-824c-74bcd314a58c"
      },
      "execution_count": 7,
      "outputs": [
        {
          "output_type": "stream",
          "name": "stdout",
          "text": [
            "{'パイナップル', 'ペン', 'アップル'}\n"
          ]
        }
      ]
    },
    {
      "cell_type": "markdown",
      "source": [
        "##集合型の追加変更削除"
      ],
      "metadata": {
        "id": "2c2NO6a1g9fq"
      }
    },
    {
      "cell_type": "code",
      "source": [
        "print(uniq)\n",
        "uniq.add('バナナ')\n",
        "print(uniq)\n",
        "uniq.remove('ペン')\n",
        "print(uniq)"
      ],
      "metadata": {
        "colab": {
          "base_uri": "https://localhost:8080/"
        },
        "id": "0n1WeRpchEC1",
        "outputId": "03e9646d-822c-4028-eb98-2733afe49ce2"
      },
      "execution_count": 8,
      "outputs": [
        {
          "output_type": "stream",
          "name": "stdout",
          "text": [
            "{'パイナップル', 'ペン', 'アップル'}\n",
            "{'パイナップル', 'ペン', 'アップル', 'バナナ'}\n",
            "{'パイナップル', 'アップル', 'バナナ'}\n"
          ]
        }
      ]
    },
    {
      "cell_type": "markdown",
      "source": [
        "####集合演算\n",
        "包括、積、和、差分、"
      ],
      "metadata": {
        "id": "m9rS6q1ViEpw"
      }
    },
    {
      "cell_type": "code",
      "source": [
        "uniq = set(['アップル','ペン','ペン','パイナップル'])\n",
        "a = set(['アップル','ペン'])\n",
        "b = set(['ペン','パイナップル'])\n",
        "print(uniq)\n",
        "print(a)\n",
        "print(b)\n",
        "print(a.issubset(uniq))\n",
        "'ペン' in a"
      ],
      "metadata": {
        "colab": {
          "base_uri": "https://localhost:8080/"
        },
        "id": "O04jmhpphPDZ",
        "outputId": "f83fe6d2-0311-4f93-ccc2-7940e2eaab3f"
      },
      "execution_count": 9,
      "outputs": [
        {
          "output_type": "stream",
          "name": "stdout",
          "text": [
            "{'パイナップル', 'ペン', 'アップル'}\n",
            "{'ペン', 'アップル'}\n",
            "{'パイナップル', 'ペン'}\n",
            "True\n"
          ]
        },
        {
          "output_type": "execute_result",
          "data": {
            "text/plain": [
              "True"
            ]
          },
          "metadata": {},
          "execution_count": 9
        }
      ]
    },
    {
      "cell_type": "code",
      "source": [
        "# ある集合と別の集合の共通部分の要素(intersection)\n",
        "print(a)\n",
        "print(b)\n",
        "print(a.intersection(b))\n",
        "print(a.union(b))\n",
        "a.difference(b)\n"
      ],
      "metadata": {
        "colab": {
          "base_uri": "https://localhost:8080/"
        },
        "id": "-b6PYrbNjOyL",
        "outputId": "e19f5dc9-d48e-4754-f277-fe659d3c7bc4"
      },
      "execution_count": 12,
      "outputs": [
        {
          "output_type": "stream",
          "name": "stdout",
          "text": [
            "{'ペン', 'アップル'}\n",
            "{'パイナップル', 'ペン'}\n",
            "{'ペン'}\n",
            "{'パイナップル', 'ペン', 'アップル'}\n"
          ]
        },
        {
          "output_type": "execute_result",
          "data": {
            "text/plain": [
              "{'アップル'}"
            ]
          },
          "metadata": {},
          "execution_count": 12
        }
      ]
    },
    {
      "cell_type": "code",
      "source": [],
      "metadata": {
        "id": "sZRTSlFprEmp"
      },
      "execution_count": 10,
      "outputs": []
    }
  ]
}