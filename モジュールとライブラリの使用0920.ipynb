{
  "nbformat": 4,
  "nbformat_minor": 0,
  "metadata": {
    "colab": {
      "provenance": [],
      "collapsed_sections": [],
      "toc_visible": true,
      "authorship_tag": "ABX9TyOwkaTN1zE+wn40pYB1jG0M",
      "include_colab_link": true
    },
    "kernelspec": {
      "name": "python3",
      "display_name": "Python 3"
    },
    "language_info": {
      "name": "python"
    }
  },
  "cells": [
    {
      "cell_type": "markdown",
      "metadata": {
        "id": "view-in-github",
        "colab_type": "text"
      },
      "source": [
        "<a href=\"https://colab.research.google.com/github/2201291aso/DeepLearning2022Late/blob/main/%E3%83%A2%E3%82%B8%E3%83%A5%E3%83%BC%E3%83%AB%E3%81%A8%E3%83%A9%E3%82%A4%E3%83%96%E3%83%A9%E3%83%AA%E3%81%AE%E4%BD%BF%E7%94%A80920.ipynb\" target=\"_parent\"><img src=\"https://colab.research.google.com/assets/colab-badge.svg\" alt=\"Open In Colab\"/></a>"
      ]
    },
    {
      "cell_type": "markdown",
      "source": [
        "#モジュールを使う\n",
        "import文でモジュールを読み込んで使う\n",
        "例）math\n",
        "\n",
        "\n",
        "\n",
        "\n",
        "\n",
        "\n",
        "\n",
        "\n",
        "\n",
        "\n",
        "\n",
        "\n",
        "\n",
        "\n",
        "\n"
      ],
      "metadata": {
        "id": "xJ81jLHF8_nT"
      }
    },
    {
      "cell_type": "code",
      "execution_count": 10,
      "metadata": {
        "colab": {
          "base_uri": "https://localhost:8080/"
        },
        "id": "NugbyzjW8uhD",
        "outputId": "b01863f8-c744-41ec-92d9-bf3b8a11b55c"
      },
      "outputs": [
        {
          "output_type": "stream",
          "name": "stdout",
          "text": [
            "3.141592653589793\n",
            "25.0\n",
            "3.0\n"
          ]
        }
      ],
      "source": [
        "import math\n",
        "print(math.pi)\n",
        "print(math.pow(5,2))\n",
        "print(math.sqrt(9))\n",
        "\n"
      ]
    },
    {
      "cell_type": "markdown",
      "source": [
        "## numpy -- 数値計算用の便利なライブラリ\n",
        "https://numpy.org"
      ],
      "metadata": {
        "id": "QCZrNenR_cgq"
      }
    },
    {
      "cell_type": "code",
      "source": [
        "import numpy as np"
      ],
      "metadata": {
        "id": "SLNDBNEB9h--"
      },
      "execution_count": 11,
      "outputs": []
    },
    {
      "cell_type": "markdown",
      "source": [
        "### numpy配列を作る（ndarray)"
      ],
      "metadata": {
        "id": "_MA_Bj-gohmj"
      }
    },
    {
      "cell_type": "code",
      "source": [
        "# リストを引き渡してndarrayを作る\n",
        "a = np.array([5,7,3,1,4,3])\n",
        "print(a)\n"
      ],
      "metadata": {
        "id": "8gFsWIvR_5mU",
        "colab": {
          "base_uri": "https://localhost:8080/"
        },
        "outputId": "1fee159b-26a7-48c7-d6f4-33610f3b43bb"
      },
      "execution_count": 12,
      "outputs": [
        {
          "output_type": "stream",
          "name": "stdout",
          "text": [
            "[5 7 3 1 4 3]\n"
          ]
        }
      ]
    },
    {
      "cell_type": "markdown",
      "source": [
        "### numpyで配列を操作してみる"
      ],
      "metadata": {
        "id": "0QIpFC8gqEpz"
      }
    },
    {
      "cell_type": "markdown",
      "source": [
        "配列を構成しなおす"
      ],
      "metadata": {
        "id": "wd0JnL-4qkcc"
      }
    },
    {
      "cell_type": "code",
      "source": [
        "#現在、aは１行１次元配列\n",
        "print(a)\n",
        "#a を３行２列の２次元配列に構成しなおす\n",
        "b = a.reshape([3,2])\n",
        "print(b)"
      ],
      "metadata": {
        "colab": {
          "base_uri": "https://localhost:8080/"
        },
        "id": "BE0wH8Usp7q9",
        "outputId": "1ab8c113-671c-40e4-8678-a95dc8a1eb10"
      },
      "execution_count": 13,
      "outputs": [
        {
          "output_type": "stream",
          "name": "stdout",
          "text": [
            "[5 7 3 1 4 3]\n",
            "[[5 7]\n",
            " [3 1]\n",
            " [4 3]]\n"
          ]
        }
      ]
    },
    {
      "cell_type": "markdown",
      "source": [
        "### numpy配列の中身を初期化して作る"
      ],
      "metadata": {
        "id": "24cXDSo1sBA_"
      }
    },
    {
      "cell_type": "code",
      "source": [
        "#3行４列の０が入った２次元配列を作る\n",
        "c = np.zeros((3,4))\n",
        "print(c)\n",
        "np.random.seed(0)\n",
        "r = np.random.rand(3,4)\n",
        "print(r)"
      ],
      "metadata": {
        "colab": {
          "base_uri": "https://localhost:8080/"
        },
        "id": "_mwcb-KgrJDq",
        "outputId": "35f90fd4-9872-41f9-9096-830bb02c9641"
      },
      "execution_count": 14,
      "outputs": [
        {
          "output_type": "stream",
          "name": "stdout",
          "text": [
            "[[0. 0. 0. 0.]\n",
            " [0. 0. 0. 0.]\n",
            " [0. 0. 0. 0.]]\n",
            "[[0.5488135  0.71518937 0.60276338 0.54488318]\n",
            " [0.4236548  0.64589411 0.43758721 0.891773  ]\n",
            " [0.96366276 0.38344152 0.79172504 0.52889492]]\n"
          ]
        }
      ]
    },
    {
      "cell_type": "markdown",
      "source": [
        "###numpyのスライスのやり方"
      ],
      "metadata": {
        "id": "ydYfZ0jku0m8"
      }
    },
    {
      "cell_type": "markdown",
      "source": [
        "基本"
      ],
      "metadata": {
        "id": "ypE2Uae5vJNx"
      }
    },
    {
      "cell_type": "markdown",
      "source": [
        "スライスの指定の仕方[start:stop:step]で指定する"
      ],
      "metadata": {
        "id": "WbiKbCrNvV2d"
      }
    },
    {
      "cell_type": "code",
      "source": [
        "# リストのスライス\n",
        "l = list(range(10))\n",
        "print(l)\n",
        "print(l[4:8])\n",
        "print(l[::-1])"
      ],
      "metadata": {
        "colab": {
          "base_uri": "https://localhost:8080/"
        },
        "id": "tKfqnhhyvSfr",
        "outputId": "abfec5bb-2c64-463c-bbb9-fc57aaa8ed98"
      },
      "execution_count": 15,
      "outputs": [
        {
          "output_type": "stream",
          "name": "stdout",
          "text": [
            "[0, 1, 2, 3, 4, 5, 6, 7, 8, 9]\n",
            "[4, 5, 6, 7]\n",
            "[9, 8, 7, 6, 5, 4, 3, 2, 1, 0]\n"
          ]
        }
      ]
    },
    {
      "cell_type": "markdown",
      "source": [
        "###１次元のNumpy配列（Ndarray）におけるスライス"
      ],
      "metadata": {
        "id": "2IsZ-UoOxFx5"
      }
    },
    {
      "cell_type": "code",
      "source": [
        "#範囲を指定してNdarrayを作る\n",
        "a = np.arange(10)\n",
        "print(a)\n",
        "print(a[2:8])\n",
        "print(a[2:8:2])\n",
        "print(a[2:8:3])"
      ],
      "metadata": {
        "colab": {
          "base_uri": "https://localhost:8080/"
        },
        "id": "WZjAX3XmvkHK",
        "outputId": "805bf3cb-4b88-4a39-9ba0-529c5e55e5ca"
      },
      "execution_count": 16,
      "outputs": [
        {
          "output_type": "stream",
          "name": "stdout",
          "text": [
            "[0 1 2 3 4 5 6 7 8 9]\n",
            "[2 3 4 5 6 7]\n",
            "[2 4 6]\n",
            "[2 5]\n"
          ]
        }
      ]
    },
    {
      "cell_type": "markdown",
      "source": [
        "###1次元配列のndarrayのスライスに代入"
      ],
      "metadata": {
        "id": "dpgLxNQfz2iU"
      }
    },
    {
      "cell_type": "code",
      "source": [
        "print(a)\n",
        "a[3:6] = 100\n",
        "print(a)\n",
        "a[3:6] = [100,200,300]\n",
        "print(a)\n",
        "a = np.arange(10)\n",
        "a[2:8:2] = 100\n",
        "print(a)"
      ],
      "metadata": {
        "colab": {
          "base_uri": "https://localhost:8080/"
        },
        "id": "t4E2eLDTxjJV",
        "outputId": "c4e55bcb-922c-4aae-fa78-4ae0fd1ad55e"
      },
      "execution_count": 17,
      "outputs": [
        {
          "output_type": "stream",
          "name": "stdout",
          "text": [
            "[0 1 2 3 4 5 6 7 8 9]\n",
            "[  0   1   2 100 100 100   6   7   8   9]\n",
            "[  0   1   2 100 200 300   6   7   8   9]\n",
            "[  0   1 100   3 100   5 100   7   8   9]\n"
          ]
        }
      ]
    },
    {
      "cell_type": "markdown",
      "source": [
        "### 多次元配列のndarrayのスライス"
      ],
      "metadata": {
        "id": "Bj1cupNJ2yNb"
      }
    },
    {
      "cell_type": "code",
      "source": [
        "# 3行４列の２次元配列を作る\n",
        "a = np.arange(12).reshape((3,4))\n",
        "print(a)\n",
        "print(a[1:,1:3])\n",
        "b = np.arange(20).reshape(5,4)\n",
        "print(b)\n",
        "#9,10 13,14 17,18\n",
        "print(b[2:,1:3].shape)\n"
      ],
      "metadata": {
        "colab": {
          "base_uri": "https://localhost:8080/"
        },
        "id": "2CPoKBvd0DYl",
        "outputId": "f47eb2f5-da64-456a-fb1c-11169fafb962"
      },
      "execution_count": 18,
      "outputs": [
        {
          "output_type": "stream",
          "name": "stdout",
          "text": [
            "[[ 0  1  2  3]\n",
            " [ 4  5  6  7]\n",
            " [ 8  9 10 11]]\n",
            "[[ 5  6]\n",
            " [ 9 10]]\n",
            "[[ 0  1  2  3]\n",
            " [ 4  5  6  7]\n",
            " [ 8  9 10 11]\n",
            " [12 13 14 15]\n",
            " [16 17 18 19]]\n",
            "(3, 2)\n"
          ]
        }
      ]
    },
    {
      "cell_type": "markdown",
      "source": [
        "###多次元配列のndarrayへのスライスでの代入"
      ],
      "metadata": {
        "id": "oqCjV3ifexM9"
      }
    },
    {
      "cell_type": "code",
      "source": [
        "a = np.arange(12).reshape(3,4)\n",
        "print(a)\n",
        "print(a[1:,1:3])\n",
        "a[1:,1:3] = 100\n",
        "print(a)\n",
        "a = np.arange(12).reshape(3,4)\n",
        "a[1:,1:3] = [[100,200],[300,400]]\n",
        "print(a)"
      ],
      "metadata": {
        "id": "q5EF-8j53Kx4",
        "colab": {
          "base_uri": "https://localhost:8080/"
        },
        "outputId": "1e8d5147-e6fe-4261-b609-932f8639ba56"
      },
      "execution_count": 26,
      "outputs": [
        {
          "output_type": "stream",
          "name": "stdout",
          "text": [
            "[[ 0  1  2  3]\n",
            " [ 4  5  6  7]\n",
            " [ 8  9 10 11]]\n",
            "[[ 5  6]\n",
            " [ 9 10]]\n",
            "[[  0   1   2   3]\n",
            " [  4 100 100   7]\n",
            " [  8 100 100  11]]\n",
            "[[  0   1   2   3]\n",
            " [  4 100 200   7]\n",
            " [  8 300 400  11]]\n"
          ]
        }
      ]
    },
    {
      "cell_type": "markdown",
      "source": [
        "###多次元のndarrayへのstepを使ったスライスでの代入"
      ],
      "metadata": {
        "id": "Xxa9JxL2iaRC"
      }
    },
    {
      "cell_type": "code",
      "source": [
        "a = np.arange(12).reshape((3,4))\n",
        "print(a)\n",
        "print(a[1:,::2])\n",
        "print(a[:2,::3])\n",
        "a[1:,::2] = 100\n",
        "print(a)\n",
        "a[1:,::2] = [[100,200],[300,400]]"
      ],
      "metadata": {
        "colab": {
          "base_uri": "https://localhost:8080/"
        },
        "id": "iPjXbJVzfF47",
        "outputId": "f2a6fc2f-9d80-4077-d518-8d8b76cd8e34"
      },
      "execution_count": 31,
      "outputs": [
        {
          "output_type": "stream",
          "name": "stdout",
          "text": [
            "[[ 0  1  2  3]\n",
            " [ 4  5  6  7]\n",
            " [ 8  9 10 11]]\n",
            "[[ 4  6]\n",
            " [ 8 10]]\n",
            "[[0 3]\n",
            " [4 7]]\n",
            "[[  0   1   2   3]\n",
            " [100   5 100   7]\n",
            " [100   9 100  11]]\n"
          ]
        }
      ]
    },
    {
      "cell_type": "code",
      "source": [],
      "metadata": {
        "id": "tJnVIAEfkgMF"
      },
      "execution_count": null,
      "outputs": []
    }
  ]
}